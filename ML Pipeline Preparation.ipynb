{
 "cells": [
  {
   "cell_type": "markdown",
   "metadata": {},
   "source": [
    "# ML Pipeline Preparation\n",
    "Follow the instructions below to help you create your ML pipeline.\n",
    "### 1. Import libraries and load data from database.\n",
    "- Import Python libraries\n",
    "- Load dataset from database with [`read_sql_table`](https://pandas.pydata.org/pandas-docs/stable/generated/pandas.read_sql_table.html)\n",
    "- Define feature and target variables X and Y"
   ]
  },
  {
   "cell_type": "code",
   "execution_count": 1,
   "metadata": {},
   "outputs": [
    {
     "name": "stdout",
     "output_type": "stream",
     "text": [
      "[nltk_data] Downloading package punkt to /root/nltk_data...\n",
      "[nltk_data]   Package punkt is already up-to-date!\n",
      "[nltk_data] Downloading package stopwords to /root/nltk_data...\n",
      "[nltk_data]   Package stopwords is already up-to-date!\n",
      "[nltk_data] Downloading package wordnet to /root/nltk_data...\n",
      "[nltk_data]   Package wordnet is already up-to-date!\n",
      "[nltk_data] Downloading package averaged_perceptron_tagger to\n",
      "[nltk_data]     /root/nltk_data...\n",
      "[nltk_data]   Package averaged_perceptron_tagger is already up-to-\n",
      "[nltk_data]       date!\n"
     ]
    },
    {
     "data": {
      "text/plain": [
       "True"
      ]
     },
     "execution_count": 1,
     "metadata": {},
     "output_type": "execute_result"
    }
   ],
   "source": [
    "# import libraries\n",
    "import pandas as pd\n",
    "import numpy as np\n",
    "from sqlalchemy import create_engine\n",
    "\n",
    "import nltk\n",
    "nltk.download('punkt')\n",
    "nltk.download('stopwords')\n",
    "nltk.download('wordnet')\n",
    "nltk.download('averaged_perceptron_tagger')"
   ]
  },
  {
   "cell_type": "code",
   "execution_count": 2,
   "metadata": {},
   "outputs": [],
   "source": [
    "# import statements\n",
    "from nltk.tokenize import word_tokenize\n",
    "from nltk.tokenize import sent_tokenize\n",
    "import re\n",
    "from nltk.corpus import stopwords\n",
    "from nltk.stem.wordnet import WordNetLemmatizer\n",
    "\n",
    "from sklearn.pipeline import Pipeline, FeatureUnion\n",
    "from sklearn.metrics import confusion_matrix\n",
    "from sklearn.model_selection import train_test_split\n",
    "from sklearn.ensemble import GradientBoostingClassifier, RandomForestClassifier, AdaBoostClassifier\n",
    "from sklearn.feature_extraction.text import CountVectorizer, TfidfTransformer\n",
    "from sklearn.model_selection import GridSearchCV\n",
    "from sklearn.metrics import classification_report\n",
    "from sklearn.base import BaseEstimator, TransformerMixin\n",
    "from sklearn.multioutput import MultiOutputClassifier"
   ]
  },
  {
   "cell_type": "code",
   "execution_count": 3,
   "metadata": {},
   "outputs": [],
   "source": [
    "# load data from database\n",
    "engine = create_engine('sqlite:///ETL_pipeline_preparation.db')\n",
    "df = pd.read_sql_table('ETL_preparationTable', engine)\n",
    "X = df['message']\n",
    "Y = df[df.columns[4:]]"
   ]
  },
  {
   "cell_type": "markdown",
   "metadata": {},
   "source": [
    "### 2. Write a tokenization function to process your text data"
   ]
  },
  {
   "cell_type": "code",
   "execution_count": 4,
   "metadata": {},
   "outputs": [],
   "source": [
    "def tokenize(text):\n",
    "    \n",
    "    url_regex = 'http[s]?://(?:[a-zA-Z]|[0-9]|[$-_@.&+]|[!*\\(\\),]|(?:%[0-9a-fA-F][0-9a-fA-F]))+'\n",
    "    detected_urls = re.findall(url_regex, text)\n",
    "    for url in detected_urls:\n",
    "        text = text.replace(url, \"urlplaceholder\")\n",
    "\n",
    "    tokens = word_tokenize(text)\n",
    "    lemmatizer = WordNetLemmatizer()\n",
    "\n",
    "    clean_tokens = []\n",
    "    for tok in tokens:\n",
    "        clean_tok = lemmatizer.lemmatize(tok).lower().strip()\n",
    "        clean_tokens.append(clean_tok)\n",
    "\n",
    "    return clean_tokens\n",
    "    "
   ]
  },
  {
   "cell_type": "markdown",
   "metadata": {},
   "source": [
    "### 3. Build a machine learning pipeline\n",
    "This machine pipeline should take in the `message` column as input and output classification results on the other 36 categories in the dataset. You may find the [MultiOutputClassifier](http://scikit-learn.org/stable/modules/generated/sklearn.multioutput.MultiOutputClassifier.html) helpful for predicting multiple target variables."
   ]
  },
  {
   "cell_type": "code",
   "execution_count": 5,
   "metadata": {},
   "outputs": [],
   "source": [
    "pipeline = Pipeline([\n",
    "        ('vect', CountVectorizer(tokenizer=tokenize)),\n",
    "        ('tfidf', TfidfTransformer()),\n",
    "        ('clf', MultiOutputClassifier(RandomForestClassifier()))\n",
    "    ])"
   ]
  },
  {
   "cell_type": "code",
   "execution_count": 6,
   "metadata": {},
   "outputs": [],
   "source": [
    "pipeline = Pipeline([\n",
    "        ('features', FeatureUnion([\n",
    "\n",
    "            ('text_pipeline', Pipeline([\n",
    "                ('count_vectorizer', CountVectorizer(tokenizer=tokenize)),\n",
    "                ('tfidf_transformer', TfidfTransformer())\n",
    "            ])),\n",
    "\n",
    "        ])),\n",
    "\n",
    "        ('classifier', MultiOutputClassifier(AdaBoostClassifier()))\n",
    "    ])"
   ]
  },
  {
   "cell_type": "code",
   "execution_count": 7,
   "metadata": {},
   "outputs": [],
   "source": [
    "def display_results(y_test, y_pred):\n",
    "    accuracy = (y_pred == y_test).mean()\n",
    "    print(\"Accuracy:\", accuracy)"
   ]
  },
  {
   "cell_type": "markdown",
   "metadata": {},
   "source": [
    "### 4. Train pipeline\n",
    "- Split data into train and test sets\n",
    "- Train pipeline"
   ]
  },
  {
   "cell_type": "code",
   "execution_count": 8,
   "metadata": {},
   "outputs": [],
   "source": [
    "#Split data into train and test sets\n",
    "X_train, X_test, y_train, y_test = train_test_split(X, Y)"
   ]
  },
  {
   "cell_type": "code",
   "execution_count": 9,
   "metadata": {},
   "outputs": [
    {
     "data": {
      "text/plain": [
       "Pipeline(memory=None,\n",
       "     steps=[('features', FeatureUnion(n_jobs=1,\n",
       "       transformer_list=[('text_pipeline', Pipeline(memory=None,\n",
       "     steps=[('count_vectorizer', CountVectorizer(analyzer='word', binary=False, decode_error='strict',\n",
       "        dtype=<class 'numpy.int64'>, encoding='utf-8', input='content',\n",
       "        lowercase...mator=None,\n",
       "          learning_rate=1.0, n_estimators=50, random_state=None),\n",
       "           n_jobs=1))])"
      ]
     },
     "execution_count": 9,
     "metadata": {},
     "output_type": "execute_result"
    }
   ],
   "source": [
    "#Train pipeline\n",
    "pipeline.fit(X_train, y_train)"
   ]
  },
  {
   "cell_type": "markdown",
   "metadata": {},
   "source": [
    "### 5. Test your model\n",
    "Report the f1 score, precision and recall for each output category of the dataset. You can do this by iterating through the columns and calling sklearn's `classification_report` on each."
   ]
  },
  {
   "cell_type": "code",
   "execution_count": 10,
   "metadata": {},
   "outputs": [
    {
     "name": "stdout",
     "output_type": "stream",
     "text": [
      "Accuracy: related                   0.758456\n",
      "request                   0.819957\n",
      "offer                     0.994465\n",
      "aid_related               0.582411\n",
      "medical_help              0.922663\n",
      "medical_products          0.946956\n",
      "search_and_rescue         0.973093\n",
      "security                  0.981396\n",
      "military                  0.966636\n",
      "water                     0.936501\n",
      "food                      0.880996\n",
      "shelter                   0.915283\n",
      "clothing                  0.983856\n",
      "money                     0.974785\n",
      "missing_people            0.990621\n",
      "refugees                  0.968327\n",
      "death                     0.955566\n",
      "other_aid                 0.864852\n",
      "infrastructure_related    0.936347\n",
      "transport                 0.955412\n",
      "buildings                 0.951568\n",
      "electricity               0.978475\n",
      "tools                     0.992159\n",
      "hospitals                 0.989084\n",
      "shops                     0.995849\n",
      "aid_centers               0.987085\n",
      "other_infrastructure      0.956950\n",
      "weather_related           0.738007\n",
      "floods                    0.916974\n",
      "storm                     0.905750\n",
      "fire                      0.988315\n",
      "earthquake                0.914514\n",
      "cold                      0.982780\n",
      "other_weather             0.948339\n",
      "direct_report             0.799047\n",
      "dtype: float64\n"
     ]
    }
   ],
   "source": [
    "# predict on test data\n",
    "y_pred = pipeline.predict(X_test)\n",
    "\n",
    "# display results\n",
    "display_results(y_test, y_pred)"
   ]
  },
  {
   "cell_type": "code",
   "execution_count": 11,
   "metadata": {},
   "outputs": [
    {
     "name": "stdout",
     "output_type": "stream",
     "text": [
      "                        precision    recall  f1-score   support\n",
      "\n",
      "               related       0.77      0.98      0.86      4970\n",
      "               request       0.45      0.15      0.22      1133\n",
      "                 offer       0.00      0.00      0.00        29\n",
      "           aid_related       0.49      0.18      0.26      2696\n",
      "          medical_help       0.00      0.00      0.00       499\n",
      "      medical_products       0.14      0.00      0.01       340\n",
      "     search_and_rescue       0.00      0.00      0.00       172\n",
      "              security       0.33      0.01      0.02       120\n",
      "              military       0.00      0.00      0.00       208\n",
      "                 water       0.00      0.00      0.00       413\n",
      "                  food       0.26      0.01      0.02       757\n",
      "               shelter       0.00      0.00      0.00       543\n",
      "              clothing       0.00      0.00      0.00       101\n",
      "                 money       0.50      0.01      0.01       164\n",
      "        missing_people       0.00      0.00      0.00        60\n",
      "              refugees       0.00      0.00      0.00       201\n",
      "                 death       0.12      0.00      0.01       283\n",
      "             other_aid       0.00      0.00      0.00       865\n",
      "infrastructure_related       0.33      0.00      0.00       413\n",
      "             transport       0.00      0.00      0.00       290\n",
      "             buildings       0.00      0.00      0.00       312\n",
      "           electricity       0.00      0.00      0.00       136\n",
      "                 tools       0.20      0.02      0.04        48\n",
      "             hospitals       0.00      0.00      0.00        69\n",
      "                 shops       0.00      0.00      0.00        25\n",
      "           aid_centers       0.00      0.00      0.00        79\n",
      "  other_infrastructure       0.00      0.00      0.00       278\n",
      "       weather_related       0.56      0.17      0.26      1771\n",
      "                floods       0.11      0.00      0.00       533\n",
      "                 storm       0.49      0.11      0.18       610\n",
      "                  fire       0.00      0.00      0.00        68\n",
      "            earthquake       0.66      0.12      0.20       591\n",
      "                  cold       0.00      0.00      0.00       109\n",
      "         other_weather       0.00      0.00      0.00       333\n",
      "         direct_report       0.39      0.10      0.16      1243\n",
      "\n",
      "           avg / total       0.41      0.30      0.30     20462\n",
      "\n"
     ]
    },
    {
     "name": "stderr",
     "output_type": "stream",
     "text": [
      "/opt/conda/lib/python3.6/site-packages/sklearn/metrics/classification.py:1135: UndefinedMetricWarning: Precision and F-score are ill-defined and being set to 0.0 in labels with no predicted samples.\n",
      "  'precision', 'predicted', average, warn_for)\n"
     ]
    }
   ],
   "source": [
    "print(classification_report(y_test, y_pred, target_names=Y.columns.values))"
   ]
  },
  {
   "cell_type": "markdown",
   "metadata": {},
   "source": [
    "### 6. Improve your model\n",
    "Use grid search to find better parameters. "
   ]
  },
  {
   "cell_type": "code",
   "execution_count": 12,
   "metadata": {},
   "outputs": [],
   "source": [
    "parameters= {'classifier__estimator__learning_rate': [0.01, 0.02, 0.05],\n",
    "              'classifier__estimator__n_estimators': [5]}\n",
    "\n",
    "cv = GridSearchCV(pipeline, param_grid=parameters, cv=2,scoring='f1_micro', n_jobs=-1)"
   ]
  },
  {
   "cell_type": "code",
   "execution_count": 13,
   "metadata": {},
   "outputs": [
    {
     "data": {
      "text/plain": [
       "GridSearchCV(cv=2, error_score='raise',\n",
       "       estimator=Pipeline(memory=None,\n",
       "     steps=[('features', FeatureUnion(n_jobs=1,\n",
       "       transformer_list=[('text_pipeline', Pipeline(memory=None,\n",
       "     steps=[('count_vectorizer', CountVectorizer(analyzer='word', binary=False, decode_error='strict',\n",
       "        dtype=<class 'numpy.int64'>, encoding='utf-8', input='content',\n",
       "        lowercase...mator=None,\n",
       "          learning_rate=1.0, n_estimators=50, random_state=None),\n",
       "           n_jobs=1))]),\n",
       "       fit_params=None, iid=True, n_jobs=-1,\n",
       "       param_grid={'classifier__estimator__learning_rate': [0.01, 0.02, 0.05], 'classifier__estimator__n_estimators': [5]},\n",
       "       pre_dispatch='2*n_jobs', refit=True, return_train_score='warn',\n",
       "       scoring='f1_micro', verbose=0)"
      ]
     },
     "execution_count": 13,
     "metadata": {},
     "output_type": "execute_result"
    }
   ],
   "source": [
    "cv.fit(X_train, y_train)"
   ]
  },
  {
   "cell_type": "markdown",
   "metadata": {},
   "source": [
    "### 7. Test your model\n",
    "Show the accuracy, precision, and recall of the tuned model.  \n",
    "\n",
    "Since this project focuses on code quality, process, and  pipelines, there is no minimum performance metric needed to pass. However, make sure to fine tune your models for accuracy, precision and recall to make your project stand out - especially for your portfolio!"
   ]
  },
  {
   "cell_type": "code",
   "execution_count": 14,
   "metadata": {},
   "outputs": [
    {
     "name": "stdout",
     "output_type": "stream",
     "text": [
      "Accuracy: related                   0.764145\n",
      "request                   0.825800\n",
      "offer                     0.995387\n",
      "aid_related               0.585486\n",
      "medical_help              0.923278\n",
      "medical_products          0.947571\n",
      "search_and_rescue         0.973555\n",
      "security                  0.981089\n",
      "military                  0.968020\n",
      "water                     0.936193\n",
      "food                      0.883610\n",
      "shelter                   0.916513\n",
      "clothing                  0.984010\n",
      "money                     0.974170\n",
      "missing_people            0.990621\n",
      "refugees                  0.969096\n",
      "death                     0.956181\n",
      "other_aid                 0.867005\n",
      "infrastructure_related    0.936501\n",
      "transport                 0.955412\n",
      "buildings                 0.952030\n",
      "electricity               0.978629\n",
      "tools                     0.992620\n",
      "hospitals                 0.987854\n",
      "shops                     0.996156\n",
      "aid_centers               0.987392\n",
      "other_infrastructure      0.957257\n",
      "weather_related           0.735086\n",
      "floods                    0.918050\n",
      "storm                     0.906212\n",
      "fire                      0.989391\n",
      "earthquake                0.915590\n",
      "cold                      0.982626\n",
      "other_weather             0.948801\n",
      "direct_report             0.808887\n",
      "dtype: float64\n"
     ]
    }
   ],
   "source": [
    "cv.fit(X_train, y_train)\n",
    "\n",
    "# predict on test data\n",
    "y_pred_final = cv.predict(X_test)\n",
    "\n",
    "# display results\n",
    "display_results(y_test, y_pred_final)"
   ]
  },
  {
   "cell_type": "markdown",
   "metadata": {},
   "source": [
    "### 8. Try improving your model further. Here are a few ideas:\n",
    "* try other machine learning algorithms\n",
    "* add other features besides the TF-IDF"
   ]
  },
  {
   "cell_type": "code",
   "execution_count": 15,
   "metadata": {},
   "outputs": [],
   "source": [
    "# Build a custom transformer which will extract the starting verb of a sentence\n",
    "class StartingVerbExtractor(BaseEstimator, TransformerMixin):\n",
    "    \"\"\"\n",
    "    Starting Verb Extractor class\n",
    "    \n",
    "    This class extract the starting verb of a sentence,\n",
    "    creating a new feature for the ML classifier\n",
    "    \"\"\"\n",
    "\n",
    "    def starting_verb(self, text):\n",
    "        sentence_list = nltk.sent_tokenize(text)\n",
    "        for sentence in sentence_list:\n",
    "            pos_tags = nltk.pos_tag(tokenize(sentence))\n",
    "            first_word, first_tag = pos_tags[0]\n",
    "            if first_tag in ['VB', 'VBP'] or first_word == 'RT':\n",
    "                return True\n",
    "        return False\n",
    "\n",
    "    # Given it is a tranformer we can return the self \n",
    "    def fit(self, X, y=None):\n",
    "        return self\n",
    "\n",
    "    def transform(self, X):\n",
    "        X_tagged = pd.Series(X).apply(self.starting_verb)\n",
    "        return pd.DataFrame(X_tagged)"
   ]
  },
  {
   "cell_type": "code",
   "execution_count": 16,
   "metadata": {},
   "outputs": [],
   "source": [
    "pipeline2 = Pipeline([\n",
    "        ('features', FeatureUnion([\n",
    "            \n",
    "            ('text_pipeline', Pipeline([\n",
    "                ('vect', CountVectorizer(tokenizer=tokenize)),\n",
    "                ('tfidf', TfidfTransformer())\n",
    "            ])),\n",
    "\n",
    "            ('starting_verb', StartingVerbExtractor())\n",
    "        ])),\n",
    "    \n",
    "        ('clf', RandomForestClassifier())\n",
    "    ])"
   ]
  },
  {
   "cell_type": "code",
   "execution_count": 17,
   "metadata": {},
   "outputs": [
    {
     "name": "stdout",
     "output_type": "stream",
     "text": [
      "Accuracy: related                   0.712023\n",
      "request                   0.817958\n",
      "offer                     0.995387\n",
      "aid_related               0.571494\n",
      "medical_help              0.922355\n",
      "medical_products          0.947571\n",
      "search_and_rescue         0.973401\n",
      "security                  0.981396\n",
      "military                  0.967866\n",
      "water                     0.936039\n",
      "food                      0.882995\n",
      "shelter                   0.916359\n",
      "clothing                  0.984317\n",
      "money                     0.974785\n",
      "missing_people            0.990775\n",
      "refugees                  0.968942\n",
      "death                     0.955105\n",
      "other_aid                 0.864391\n",
      "infrastructure_related    0.936501\n",
      "transport                 0.954490\n",
      "buildings                 0.952030\n",
      "electricity               0.979090\n",
      "tools                     0.992620\n",
      "hospitals                 0.989391\n",
      "shops                     0.996156\n",
      "aid_centers               0.987854\n",
      "other_infrastructure      0.957411\n",
      "weather_related           0.731857\n",
      "floods                    0.916820\n",
      "storm                     0.905750\n",
      "fire                      0.989545\n",
      "earthquake                0.915898\n",
      "cold                      0.982626\n",
      "other_weather             0.948032\n",
      "direct_report             0.803352\n",
      "dtype: float64\n",
      "                        precision    recall  f1-score   support\n",
      "\n",
      "               related       0.77      0.88      0.82      4970\n",
      "               request       0.39      0.08      0.14      1133\n",
      "                 offer       0.00      0.00      0.00        29\n",
      "           aid_related       0.45      0.15      0.22      2696\n",
      "          medical_help       0.00      0.00      0.00       499\n",
      "      medical_products       0.33      0.00      0.01       340\n",
      "     search_and_rescue       0.00      0.00      0.00       172\n",
      "              security       0.00      0.00      0.00       120\n",
      "              military       0.00      0.00      0.00       208\n",
      "                 water       0.00      0.00      0.00       413\n",
      "                  food       0.33      0.01      0.01       757\n",
      "               shelter       0.43      0.01      0.01       543\n",
      "              clothing       0.00      0.00      0.00       101\n",
      "                 money       0.00      0.00      0.00       164\n",
      "        missing_people       0.00      0.00      0.00        60\n",
      "              refugees       0.00      0.00      0.00       201\n",
      "                 death       0.09      0.00      0.01       283\n",
      "             other_aid       0.00      0.00      0.00       865\n",
      "infrastructure_related       0.50      0.01      0.01       413\n",
      "             transport       0.00      0.00      0.00       290\n",
      "             buildings       0.50      0.01      0.01       312\n",
      "           electricity       0.00      0.00      0.00       136\n",
      "                 tools       0.00      0.00      0.00        48\n",
      "             hospitals       0.00      0.00      0.00        69\n",
      "                 shops       0.00      0.00      0.00        25\n",
      "           aid_centers       0.00      0.00      0.00        79\n",
      "  other_infrastructure       0.60      0.01      0.02       278\n",
      "       weather_related       0.54      0.10      0.18      1771\n",
      "                floods       0.17      0.00      0.01       533\n",
      "                 storm       0.43      0.02      0.03       610\n",
      "                  fire       0.00      0.00      0.00        68\n",
      "            earthquake       0.78      0.10      0.18       591\n",
      "                  cold       0.00      0.00      0.00       109\n",
      "         other_weather       0.00      0.00      0.00       333\n",
      "         direct_report       0.41      0.07      0.12      1243\n",
      "\n",
      "           avg / total       0.44      0.26      0.27     20462\n",
      "\n"
     ]
    },
    {
     "name": "stderr",
     "output_type": "stream",
     "text": [
      "/opt/conda/lib/python3.6/site-packages/sklearn/metrics/classification.py:1135: UndefinedMetricWarning: Precision and F-score are ill-defined and being set to 0.0 in labels with no predicted samples.\n",
      "  'precision', 'predicted', average, warn_for)\n"
     ]
    }
   ],
   "source": [
    "pipeline2.fit(X_train, y_train)\n",
    "\n",
    "# predict on test data\n",
    "y_pred = pipeline2.predict(X_test)\n",
    "\n",
    "# display results\n",
    "display_results(y_test, y_pred)\n",
    "\n",
    "print(classification_report(y_test, y_pred, target_names=Y.columns.values))"
   ]
  },
  {
   "cell_type": "markdown",
   "metadata": {},
   "source": [
    "### 9. Export your model as a pickle file"
   ]
  },
  {
   "cell_type": "code",
   "execution_count": 18,
   "metadata": {},
   "outputs": [],
   "source": [
    "import pickle\n",
    "\n",
    "pickle.dump(cv, open('MLclassifier.pkl', 'wb'))"
   ]
  },
  {
   "cell_type": "markdown",
   "metadata": {},
   "source": [
    "### 10. Use this notebook to complete `train.py`\n",
    "Use the template file attached in the Resources folder to write a script that runs the steps above to create a database and export a model based on a new dataset specified by the user."
   ]
  },
  {
   "cell_type": "code",
   "execution_count": null,
   "metadata": {},
   "outputs": [],
   "source": []
  }
 ],
 "metadata": {
  "kernelspec": {
   "display_name": "Python 3",
   "language": "python",
   "name": "python3"
  },
  "language_info": {
   "codemirror_mode": {
    "name": "ipython",
    "version": 3
   },
   "file_extension": ".py",
   "mimetype": "text/x-python",
   "name": "python",
   "nbconvert_exporter": "python",
   "pygments_lexer": "ipython3",
   "version": "3.6.3"
  }
 },
 "nbformat": 4,
 "nbformat_minor": 2
}
